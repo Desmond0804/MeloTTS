{
 "cells": [
  {
   "cell_type": "code",
   "execution_count": 1,
   "id": "6108a088",
   "metadata": {},
   "outputs": [],
   "source": [
    "import os\n",
    "\n",
    "os.environ['CUDA_VISIBLE_DEVICES'] = '2'"
   ]
  },
  {
   "cell_type": "code",
   "execution_count": 2,
   "id": "5c6bc538",
   "metadata": {},
   "outputs": [],
   "source": [
    "from melo.api import TTS\n",
    "from huggingface_hub import hf_hub_download\n",
    "import torch"
   ]
  },
  {
   "cell_type": "code",
   "execution_count": 3,
   "id": "fbd8615d",
   "metadata": {},
   "outputs": [],
   "source": [
    "ckpt_path = hf_hub_download(repo_id='mesolitica/MeloTTS-MS', filename='model.pth')\n",
    "config_path = hf_hub_download(repo_id='mesolitica/MeloTTS-MS', filename='config.json')"
   ]
  },
  {
   "cell_type": "code",
   "execution_count": 4,
   "id": "bffb1b30",
   "metadata": {
    "scrolled": true
   },
   "outputs": [
    {
     "name": "stderr",
     "output_type": "stream",
     "text": [
      "/home/husein/.local/lib/python3.10/site-packages/torch/nn/utils/weight_norm.py:143: FutureWarning: `torch.nn.utils.weight_norm` is deprecated in favor of `torch.nn.utils.parametrizations.weight_norm`.\n",
      "  WeightNorm.apply(module, name, dim)\n"
     ]
    }
   ],
   "source": [
    "model_bfloat16 = TTS(language='MS', config_path=config_path, ckpt_path=ckpt_path).to(torch.bfloat16)\n",
    "model = TTS(language='MS', config_path=config_path, ckpt_path=ckpt_path)"
   ]
  },
  {
   "cell_type": "code",
   "execution_count": 5,
   "id": "daba68d1",
   "metadata": {},
   "outputs": [],
   "source": [
    "_ = model.eval()"
   ]
  },
  {
   "cell_type": "code",
   "execution_count": 16,
   "id": "b92cbcce",
   "metadata": {},
   "outputs": [
    {
     "name": "stdout",
     "output_type": "stream",
     "text": [
      "CPU times: user 282 ms, sys: 8.16 ms, total: 290 ms\n",
      "Wall time: 108 ms\n"
     ]
    }
   ],
   "source": [
    "%%time\n",
    "\n",
    "r = model.tts_to_file('Saya suka Malaysia sebab ada nasi lemak yang sedap dan Husein yang comel.', 1, quiet = True, split = True, sdp_ratio = 0, noise_scale = 0.667)"
   ]
  },
  {
   "cell_type": "code",
   "execution_count": 17,
   "id": "367d0cbe",
   "metadata": {},
   "outputs": [
    {
     "name": "stdout",
     "output_type": "stream",
     "text": [
      "CPU times: user 330 ms, sys: 0 ns, total: 330 ms\n",
      "Wall time: 81.4 ms\n"
     ]
    }
   ],
   "source": [
    "%%time\n",
    "\n",
    "r = model_bfloat16.tts_to_file('Saya suka Malaysia sebab ada nasi lemak yang sedap dan Husein yang comel.', 1, quiet = True, split = True, sdp_ratio = 0, noise_scale = 0.667)"
   ]
  },
  {
   "cell_type": "code",
   "execution_count": null,
   "id": "62743b84",
   "metadata": {},
   "outputs": [],
   "source": [
    "model.hps.data.sampling_rate"
   ]
  },
  {
   "cell_type": "code",
   "execution_count": null,
   "id": "d6eeea3f",
   "metadata": {
    "scrolled": true
   },
   "outputs": [],
   "source": [
    "import IPython.display as ipd\n",
    "ipd.Audio(r, rate = model.hps.data.sampling_rate)"
   ]
  },
  {
   "cell_type": "code",
   "execution_count": null,
   "id": "313fa02d",
   "metadata": {},
   "outputs": [],
   "source": []
  }
 ],
 "metadata": {
  "kernelspec": {
   "display_name": "python3.10",
   "language": "python",
   "name": "python3.10"
  },
  "language_info": {
   "codemirror_mode": {
    "name": "ipython",
    "version": 3
   },
   "file_extension": ".py",
   "mimetype": "text/x-python",
   "name": "python",
   "nbconvert_exporter": "python",
   "pygments_lexer": "ipython3",
   "version": "3.10.15"
  }
 },
 "nbformat": 4,
 "nbformat_minor": 5
}
